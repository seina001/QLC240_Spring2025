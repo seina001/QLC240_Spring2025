{
  "nbformat": 4,
  "nbformat_minor": 0,
  "metadata": {
    "colab": {
      "provenance": [],
      "include_colab_link": true
    },
    "kernelspec": {
      "name": "python3",
      "display_name": "Python 3"
    },
    "language_info": {
      "name": "python"
    }
  },
  "cells": [
    {
      "cell_type": "markdown",
      "metadata": {
        "id": "view-in-github",
        "colab_type": "text"
      },
      "source": [
        "<a href=\"https://colab.research.google.com/github/seina001/QLC240_Spring2025/blob/main/Exercise11.ipynb\" target=\"_parent\"><img src=\"https://colab.research.google.com/assets/colab-badge.svg\" alt=\"Open In Colab\"/></a>"
      ]
    },
    {
      "cell_type": "code",
      "execution_count": null,
      "metadata": {
        "id": "WcZvnZMqogFS"
      },
      "outputs": [],
      "source": []
    },
    {
      "cell_type": "markdown",
      "source": [
        "Exercise 9: Importing and initial visualization of data that we will be modeling"
      ],
      "metadata": {
        "id": "6Ru1rhr3ouhD"
      }
    },
    {
      "cell_type": "markdown",
      "source": [
        "The following exercises will be organized into 4 sections:\n",
        "    1. Comparing the 2 datasets (JMA, Argo) and looking at overlaps and gaps.\n",
        "    2. Creating models to find the best fit model for the JMA dataset, to use on the ARGO data.\n",
        "    3. Use only data from JMA that corresponds to the geographic area of the ARGO dataset. Then do the same thing as in section 2.\n",
        "    4. Analysis of the best fit models from sections 2 and 3, to see if using data from the same geographic area results in a better model."
      ],
      "metadata": {
        "id": "XLFBhZQTomnL"
      }
    },
    {
      "cell_type": "code",
      "source": [
        "#Import packages needed to run code\n",
        "%matplotlib inline\n",
        "import matplotlib.pyplot as plt\n",
        "import numpy as np\n",
        "import pandas as pd\n",
        "from sklearn.model_selection import train_test_split\n",
        "from sklearn import datasets, linear_model\n",
        "from sklearn.metrics import mean_squared_error, r2_score"
      ],
      "metadata": {
        "id": "kxmSU2zVotPc"
      },
      "execution_count": 2,
      "outputs": []
    },
    {
      "cell_type": "markdown",
      "source": [
        "Import the JMA dataset and visualize to see what we have.\n",
        "IMport nitrate file as a pandas dataset."
      ],
      "metadata": {
        "id": "gWB-7nulqQ5O"
      }
    },
    {
      "cell_type": "code",
      "source": [
        "infile = 'jma_nitrate.csv'\n",
        "#######\n",
        "\n",
        "#End the cell by visualizing the data variable, if that is what you called it, example:\n",
        "data"
      ],
      "metadata": {
        "id": "Ic6GiwyXpHTt",
        "colab": {
          "base_uri": "https://localhost:8080/",
          "height": 182
        },
        "outputId": "9388b162-41d9-48cf-fbf2-94f67e22ed4e"
      },
      "execution_count": 3,
      "outputs": [
        {
          "output_type": "error",
          "ename": "NameError",
          "evalue": "name 'data' is not defined",
          "traceback": [
            "\u001b[0;31m---------------------------------------------------------------------------\u001b[0m",
            "\u001b[0;31mNameError\u001b[0m                                 Traceback (most recent call last)",
            "\u001b[0;32m<ipython-input-3-5bbff445d3fe>\u001b[0m in \u001b[0;36m<cell line: 0>\u001b[0;34m()\u001b[0m\n\u001b[1;32m      3\u001b[0m \u001b[0;34m\u001b[0m\u001b[0m\n\u001b[1;32m      4\u001b[0m \u001b[0;31m#End the cell by visualizing the data variable, if that is what you called it, example:\u001b[0m\u001b[0;34m\u001b[0m\u001b[0;34m\u001b[0m\u001b[0m\n\u001b[0;32m----> 5\u001b[0;31m \u001b[0mdata\u001b[0m\u001b[0;34m\u001b[0m\u001b[0;34m\u001b[0m\u001b[0m\n\u001b[0m",
            "\u001b[0;31mNameError\u001b[0m: name 'data' is not defined"
          ]
        }
      ]
    },
    {
      "cell_type": "markdown",
      "source": [
        "Plotting a scater plot of nitrate and depth data from JMA cruise.\n",
        "You might want to invert the axis, to make it look like an ocean water column."
      ],
      "metadata": {
        "id": "_Zgj4eVPqrYW"
      }
    },
    {
      "cell_type": "code",
      "source": [
        "# Scatter plot of Nitrate vs Depth for JMA data\n",
        "plt.figure(figsize=(8, 6))\n",
        "\n",
        "plt.scatter(jma_df[\"nitrate\"], jma_df[\"depth\"], alpha=0.5, color=\"blue\")\n",
        "\n",
        "# Invert the y-axis to resemble an ocean water column\n",
        "plt.gca().invert_yaxis()\n",
        "\n",
        "# Labels and title\n",
        "plt.xlabel(\"Nitrate (µM)\")\n",
        "plt.ylabel(\"Depth (m)\")\n",
        "plt.title(\"Nitrate vs Depth (JMA Cruise)\")\n",
        "\n",
        "plt.show()"
      ],
      "metadata": {
        "id": "Q5EHRGZlqpHQ"
      },
      "execution_count": null,
      "outputs": []
    },
    {
      "cell_type": "markdown",
      "source": [
        "The raw jma data appear to have some nitrate values at -999, representing either no data or bad data. These have to be removed before we can continue."
      ],
      "metadata": {
        "id": "BFOzR8N6qtiu"
      }
    },
    {
      "cell_type": "code",
      "source": [
        "#Example:\n",
        "# Looks like there are -999 values to indicate no samples or bad samples. Let's take those out.\n",
        "corr_data = data[data.nitrate>0]\n",
        "#Plot the corrected data in a scatter plot again."
      ],
      "metadata": {
        "id": "92eULDzhqvdv"
      },
      "execution_count": null,
      "outputs": []
    },
    {
      "cell_type": "markdown",
      "source": [
        "The following cell will read in another file, and fix some date/time variables so they are managable. You don't need to change it at all, except you need to upload the .csv file itself."
      ],
      "metadata": {
        "id": "6XHyc5z9rIbf"
      }
    },
    {
      "cell_type": "code",
      "source": [
        "# Reading in the Argo float data with no NO3 values\n",
        "infile = 'kuro_BGCargo_noNO3.csv'\n",
        "data_BGC = pd.read_csv(infile, sep = (','))\n",
        "\n",
        "# Separating the date column of BGC argo data into year month and day columns to look at seasonality compared to the jma data.\n",
        "import datetime\n",
        "\n",
        "data_BGC['year'] = pd.DatetimeIndex(data_BGC['Date/GMT']).year\n",
        "data_BGC['month'] = pd.DatetimeIndex(data_BGC['Date/GMT']).month\n",
        "data_BGC['day'] = pd.DatetimeIndex(data_BGC['Date/GMT']).day\n",
        "#data_BGC.head()"
      ],
      "metadata": {
        "id": "JctGGfMtrT-A"
      },
      "execution_count": null,
      "outputs": []
    },
    {
      "cell_type": "markdown",
      "source": [
        "# Section 1, compare datasets (JMA, ARGO)"
      ],
      "metadata": {
        "id": "6Dw7sLX-rcsP"
      }
    },
    {
      "cell_type": "markdown",
      "source": [
        "Compare the samples locations and see how the datasets overlap or don't overlap"
      ],
      "metadata": {
        "id": "JQ2n-G5sri3Z"
      }
    },
    {
      "cell_type": "code",
      "source": [
        "#Plot the corrected data and the Argo float data \"Latitude\" and \"Longitude\" coordinates. If you're unsure of the column to choose, just look at the data and the column head names.\n",
        "#Scatter plot for example"
      ],
      "metadata": {
        "id": "2w4VOJlcriT_"
      },
      "execution_count": null,
      "outputs": []
    },
    {
      "cell_type": "code",
      "source": [
        "# Compare geographic coordinates\n",
        "print(\"\\nJMA Longitude:\", jma_df[\"lon\"].min(), \"-\", jma_df[\"lon\"].max())\n",
        "print(\"Argo Longitude:\", argo_df[\"LON\"].min(), \"-\", argo_df[\"LON\"].max())\n",
        "\n",
        "print(\"\\nJMA Latitude:\", jma_df[\"lat\"].min(), \"-\", jma_df[\"lat\"].max())\n",
        "print(\"Argo Latitude:\", argo_df[\"LAT\"].min(), \"-\", argo_df[\"LAT\"].max())"
      ],
      "metadata": {
        "id": "aqvAtNCor0hV",
        "colab": {
          "base_uri": "https://localhost:8080/",
          "height": 219
        },
        "outputId": "1476ba14-a482-4c78-c5be-d21285e4aba1"
      },
      "execution_count": 4,
      "outputs": [
        {
          "output_type": "error",
          "ename": "NameError",
          "evalue": "name 'jma_df' is not defined",
          "traceback": [
            "\u001b[0;31m---------------------------------------------------------------------------\u001b[0m",
            "\u001b[0;31mNameError\u001b[0m                                 Traceback (most recent call last)",
            "\u001b[0;32m<ipython-input-4-9d3dba58a079>\u001b[0m in \u001b[0;36m<cell line: 0>\u001b[0;34m()\u001b[0m\n\u001b[1;32m      1\u001b[0m \u001b[0;31m# Compare geographic coordinates\u001b[0m\u001b[0;34m\u001b[0m\u001b[0;34m\u001b[0m\u001b[0m\n\u001b[0;32m----> 2\u001b[0;31m \u001b[0mprint\u001b[0m\u001b[0;34m(\u001b[0m\u001b[0;34m\"\\nJMA Longitude:\"\u001b[0m\u001b[0;34m,\u001b[0m \u001b[0mjma_df\u001b[0m\u001b[0;34m[\u001b[0m\u001b[0;34m\"lon\"\u001b[0m\u001b[0;34m]\u001b[0m\u001b[0;34m.\u001b[0m\u001b[0mmin\u001b[0m\u001b[0;34m(\u001b[0m\u001b[0;34m)\u001b[0m\u001b[0;34m,\u001b[0m \u001b[0;34m\"-\"\u001b[0m\u001b[0;34m,\u001b[0m \u001b[0mjma_df\u001b[0m\u001b[0;34m[\u001b[0m\u001b[0;34m\"lon\"\u001b[0m\u001b[0;34m]\u001b[0m\u001b[0;34m.\u001b[0m\u001b[0mmax\u001b[0m\u001b[0;34m(\u001b[0m\u001b[0;34m)\u001b[0m\u001b[0;34m)\u001b[0m\u001b[0;34m\u001b[0m\u001b[0;34m\u001b[0m\u001b[0m\n\u001b[0m\u001b[1;32m      3\u001b[0m \u001b[0mprint\u001b[0m\u001b[0;34m(\u001b[0m\u001b[0;34m\"Argo Longitude:\"\u001b[0m\u001b[0;34m,\u001b[0m \u001b[0margo_df\u001b[0m\u001b[0;34m[\u001b[0m\u001b[0;34m\"LON\"\u001b[0m\u001b[0;34m]\u001b[0m\u001b[0;34m.\u001b[0m\u001b[0mmin\u001b[0m\u001b[0;34m(\u001b[0m\u001b[0;34m)\u001b[0m\u001b[0;34m,\u001b[0m \u001b[0;34m\"-\"\u001b[0m\u001b[0;34m,\u001b[0m \u001b[0margo_df\u001b[0m\u001b[0;34m[\u001b[0m\u001b[0;34m\"LON\"\u001b[0m\u001b[0;34m]\u001b[0m\u001b[0;34m.\u001b[0m\u001b[0mmax\u001b[0m\u001b[0;34m(\u001b[0m\u001b[0;34m)\u001b[0m\u001b[0;34m)\u001b[0m\u001b[0;34m\u001b[0m\u001b[0;34m\u001b[0m\u001b[0m\n\u001b[1;32m      4\u001b[0m \u001b[0;34m\u001b[0m\u001b[0m\n\u001b[1;32m      5\u001b[0m \u001b[0mprint\u001b[0m\u001b[0;34m(\u001b[0m\u001b[0;34m\"\\nJMA Latitude:\"\u001b[0m\u001b[0;34m,\u001b[0m \u001b[0mjma_df\u001b[0m\u001b[0;34m[\u001b[0m\u001b[0;34m\"lat\"\u001b[0m\u001b[0;34m]\u001b[0m\u001b[0;34m.\u001b[0m\u001b[0mmin\u001b[0m\u001b[0;34m(\u001b[0m\u001b[0;34m)\u001b[0m\u001b[0;34m,\u001b[0m \u001b[0;34m\"-\"\u001b[0m\u001b[0;34m,\u001b[0m \u001b[0mjma_df\u001b[0m\u001b[0;34m[\u001b[0m\u001b[0;34m\"lat\"\u001b[0m\u001b[0;34m]\u001b[0m\u001b[0;34m.\u001b[0m\u001b[0mmax\u001b[0m\u001b[0;34m(\u001b[0m\u001b[0;34m)\u001b[0m\u001b[0;34m)\u001b[0m\u001b[0;34m\u001b[0m\u001b[0;34m\u001b[0m\u001b[0m\n",
            "\u001b[0;31mNameError\u001b[0m: name 'jma_df' is not defined"
          ]
        }
      ]
    },
    {
      "cell_type": "markdown",
      "source": [
        "Just from the geographic extend, we can see that the distribution of JMA samples is considerably higher than that of BCG ARGO samples. However big this despair, for this and other variables, there is some overlap in the sampled region, depths, and seasons. The geographical extent overlaps in the region between the ~30 to ~40° of latitude and ~150 to ~175° of longitude."
      ],
      "metadata": {
        "id": "ptvUm1gbr550"
      }
    },
    {
      "cell_type": "code",
      "source": [
        "# Compare  depth ranges\n",
        "print(\"\\nJMA Depth Range:\", jma_df[\"depth\"].min(), \"-\", jma_df[\"depth\"].max())\n",
        "print(\"Argo Depth Range:\", argo_df[\"DEPTH[M]\"].min(), \"-\", argo_df[\"DEPTH[M]\"].max())\n"
      ],
      "metadata": {
        "id": "b7Qf9oiMr8Zk"
      },
      "execution_count": null,
      "outputs": []
    },
    {
      "cell_type": "markdown",
      "source": [
        "Compare the water masses that were sampled in both datasets"
      ],
      "metadata": {
        "id": "5JKykjmar9E0"
      }
    },
    {
      "cell_type": "code",
      "source": [
        "#Plot a scatter plot looking at the temperature vs depth profile, and seperate plot looking at salinity vs temperature. Each data source should be labeled differently."
      ],
      "metadata": {
        "id": "YASwDw_AsA92"
      },
      "execution_count": null,
      "outputs": []
    },
    {
      "cell_type": "code",
      "source": [
        "plt.figure(figsize=(8, 6))\n",
        "\n",
        "plt.scatter(jma_df[\"sal\"], jma_df[\"theta\"], alpha=0.5, label=\"JMA\", color=\"blue\")\n",
        "plt.scatter(argo_df[\"SALINITY[PSS]\"], argo_df[\"TEMPERATURE[C]\"], alpha=0.5, label=\"Argo\", color=\"red\")\n",
        "\n",
        "plt.xlabel(\"Salinity (PSS)\")\n",
        "plt.ylabel(\"Temperature (°C)\")\n",
        "plt.title(\"Temperature-Salinity Diagram (JMA vs Argo)\")\n",
        "plt.legend()\n",
        "plt.show()"
      ],
      "metadata": {
        "id": "M0A42E-fARIf"
      },
      "execution_count": null,
      "outputs": []
    },
    {
      "cell_type": "markdown",
      "source": [
        "# Section 2, model testing and best fit analysis using entire dataset\n",
        "Start of model testing, and comparison to find the best fit model for this dataset using KNN.\n",
        "We chose to use temperature and salinity as variables to model nitrate from. They are good proxies for water masses and can hopefully be used to predict nitrate."
      ],
      "metadata": {
        "id": "O-ibpccKs8FB"
      }
    },
    {
      "cell_type": "code",
      "source": [
        "#import the jma nitrate file, then get columns I want for training\n",
        "infile = 'jma_nitrate.csv'\n",
        "nitratefile = pd.read_csv(infile,sep=(','))\n",
        "nitratefilefiltered = nitratefile[nitratefile.nitrate>0]\n",
        "X = nitratefilefiltered[[\"sal\",\"theta\"]]\n",
        "y = nitratefilefiltered[[\"nitrate\"]]\n",
        "print(np.shape(X))\n",
        "print(np.shape(y))\n",
        "\n",
        "\n",
        "#split data set to train/test 20/80 split\n",
        "from sklearn.model_selection import train_test_split\n",
        "\n",
        "X_train,X_test,y_train,y_test = train_test_split(X,y,test_size=0.2,random_state=4)\n",
        "\n"
      ],
      "metadata": {
        "id": "8VtaA6RWsP_Y",
        "colab": {
          "base_uri": "https://localhost:8080/"
        },
        "outputId": "b159a6ac-7afe-4b9f-a974-a771726e385b"
      },
      "execution_count": 5,
      "outputs": [
        {
          "output_type": "stream",
          "name": "stdout",
          "text": [
            "(15574, 2)\n",
            "(15574, 1)\n"
          ]
        }
      ]
    },
    {
      "cell_type": "code",
      "source": [
        "# generate the data\n",
        "import matplotlib.pyplot as plt\n",
        "import random\n",
        "\n",
        "\n",
        "# pick model\n",
        "from sklearn.neighbors import KNeighborsRegressor\n",
        "from sklearn.metrics import mean_squared_error\n",
        "from math import sqrt\n",
        "\n",
        "#run KNN with K neighbors ranging from 1-15, calculating\n",
        "#r2 and RMSE to find the best fit model\n",
        "results = []\n",
        "for n in range(1,16,1):\n",
        "    res = []\n",
        "    model = KNeighborsRegressor(n_neighbors=n)\n",
        "    model.fit(X_train, y_train)\n",
        "    #print ('Neighbors = %s\\n' % (int(n)))\n",
        "    # compute the R^2 score\n",
        "    accuracyscore = model.score(X_train,y_train)\n",
        "    #print(\"Training R^2 score: {0:.2f}\\n\".format(model.score(X_train,y_train)))\n",
        "    # plot the model together with the data\n",
        "    xfit = X_test\n",
        "    yfit = model.predict(xfit)\n",
        "    #print(\"Testing R^2 score: {0:.2f}\\n\".format(model.score(xfit,yfit)))\n",
        "    rmse = sqrt(mean_squared_error(y_test, yfit))\n",
        "    #print(\"RMSE = %s \\n\" % (rmse))\n",
        "    res = [n,accuracyscore,rmse]\n",
        "    results.append(res)\n",
        "results"
      ],
      "metadata": {
        "colab": {
          "base_uri": "https://localhost:8080/"
        },
        "id": "sHkgaWORvM7h",
        "outputId": "41598d40-566e-4119-b99b-56b7f3aa4181"
      },
      "execution_count": 10,
      "outputs": [
        {
          "output_type": "execute_result",
          "data": {
            "text/plain": [
              "[[1, 0.9999110613989356, 2.6058678198832435],\n",
              " [2, 0.9927289125889681, 2.4303135395420776],\n",
              " [3, 0.989436962483429, 2.320717656355632],\n",
              " [4, 0.9877493952444761, 2.294790385486795],\n",
              " [5, 0.9862445125445002, 2.265924014995549],\n",
              " [6, 0.9853651009567571, 2.2178185162292237],\n",
              " [7, 0.9846615070565908, 2.213675727092634],\n",
              " [8, 0.9840785865559012, 2.1952765454848047],\n",
              " [9, 0.9836823893549954, 2.20225936338761],\n",
              " [10, 0.9833161917430909, 2.1939401652725508],\n",
              " [11, 0.9830143132143836, 2.2023368473610616],\n",
              " [12, 0.98254256174158, 2.2144196381599355],\n",
              " [13, 0.9820371954017075, 2.2041353557622165],\n",
              " [14, 0.9816750176585883, 2.208859357144669],\n",
              " [15, 0.9812961480610605, 2.2152382383662066]]"
            ]
          },
          "metadata": {},
          "execution_count": 10
        }
      ]
    },
    {
      "cell_type": "code",
      "source": [
        "myarray = np.asarray(results)\n",
        "myarray"
      ],
      "metadata": {
        "colab": {
          "base_uri": "https://localhost:8080/"
        },
        "id": "YOKSvZ2VxU7r",
        "outputId": "6eb7aa4f-2e72-4e7c-c0cd-7944d7e35e43"
      },
      "execution_count": 11,
      "outputs": [
        {
          "output_type": "execute_result",
          "data": {
            "text/plain": [
              "array([[ 1.        ,  0.99991106,  2.60586782],\n",
              "       [ 2.        ,  0.99272891,  2.43031354],\n",
              "       [ 3.        ,  0.98943696,  2.32071766],\n",
              "       [ 4.        ,  0.9877494 ,  2.29479039],\n",
              "       [ 5.        ,  0.98624451,  2.26592401],\n",
              "       [ 6.        ,  0.9853651 ,  2.21781852],\n",
              "       [ 7.        ,  0.98466151,  2.21367573],\n",
              "       [ 8.        ,  0.98407859,  2.19527655],\n",
              "       [ 9.        ,  0.98368239,  2.20225936],\n",
              "       [10.        ,  0.98331619,  2.19394017],\n",
              "       [11.        ,  0.98301431,  2.20233685],\n",
              "       [12.        ,  0.98254256,  2.21441964],\n",
              "       [13.        ,  0.9820372 ,  2.20413536],\n",
              "       [14.        ,  0.98167502,  2.20885936],\n",
              "       [15.        ,  0.98129615,  2.21523824]])"
            ]
          },
          "metadata": {},
          "execution_count": 11
        }
      ]
    },
    {
      "cell_type": "code",
      "source": [
        "#Make list into array to plot nicely, in order to look at all of the\n",
        "#results\n",
        "\n",
        "myarray = np.asarray(results)\n",
        "\n",
        "#make a dataframe with each column named for ploting\n",
        "data = pd.DataFrame({'Kneighbors': myarray[:,0], 'AccScore': myarray[:,1], 'RMSE': myarray[:,2]})\n",
        "data\n"
      ],
      "metadata": {
        "colab": {
          "base_uri": "https://localhost:8080/",
          "height": 519
        },
        "id": "VSWiesQkvZKU",
        "outputId": "9e090ef8-3f5a-48e0-e81f-1adb770c08d9"
      },
      "execution_count": 12,
      "outputs": [
        {
          "output_type": "execute_result",
          "data": {
            "text/plain": [
              "    Kneighbors  AccScore      RMSE\n",
              "0          1.0  0.999911  2.605868\n",
              "1          2.0  0.992729  2.430314\n",
              "2          3.0  0.989437  2.320718\n",
              "3          4.0  0.987749  2.294790\n",
              "4          5.0  0.986245  2.265924\n",
              "5          6.0  0.985365  2.217819\n",
              "6          7.0  0.984662  2.213676\n",
              "7          8.0  0.984079  2.195277\n",
              "8          9.0  0.983682  2.202259\n",
              "9         10.0  0.983316  2.193940\n",
              "10        11.0  0.983014  2.202337\n",
              "11        12.0  0.982543  2.214420\n",
              "12        13.0  0.982037  2.204135\n",
              "13        14.0  0.981675  2.208859\n",
              "14        15.0  0.981296  2.215238"
            ],
            "text/html": [
              "\n",
              "  <div id=\"df-9ef93f25-9d53-445f-9c51-5a636a9358a0\" class=\"colab-df-container\">\n",
              "    <div>\n",
              "<style scoped>\n",
              "    .dataframe tbody tr th:only-of-type {\n",
              "        vertical-align: middle;\n",
              "    }\n",
              "\n",
              "    .dataframe tbody tr th {\n",
              "        vertical-align: top;\n",
              "    }\n",
              "\n",
              "    .dataframe thead th {\n",
              "        text-align: right;\n",
              "    }\n",
              "</style>\n",
              "<table border=\"1\" class=\"dataframe\">\n",
              "  <thead>\n",
              "    <tr style=\"text-align: right;\">\n",
              "      <th></th>\n",
              "      <th>Kneighbors</th>\n",
              "      <th>AccScore</th>\n",
              "      <th>RMSE</th>\n",
              "    </tr>\n",
              "  </thead>\n",
              "  <tbody>\n",
              "    <tr>\n",
              "      <th>0</th>\n",
              "      <td>1.0</td>\n",
              "      <td>0.999911</td>\n",
              "      <td>2.605868</td>\n",
              "    </tr>\n",
              "    <tr>\n",
              "      <th>1</th>\n",
              "      <td>2.0</td>\n",
              "      <td>0.992729</td>\n",
              "      <td>2.430314</td>\n",
              "    </tr>\n",
              "    <tr>\n",
              "      <th>2</th>\n",
              "      <td>3.0</td>\n",
              "      <td>0.989437</td>\n",
              "      <td>2.320718</td>\n",
              "    </tr>\n",
              "    <tr>\n",
              "      <th>3</th>\n",
              "      <td>4.0</td>\n",
              "      <td>0.987749</td>\n",
              "      <td>2.294790</td>\n",
              "    </tr>\n",
              "    <tr>\n",
              "      <th>4</th>\n",
              "      <td>5.0</td>\n",
              "      <td>0.986245</td>\n",
              "      <td>2.265924</td>\n",
              "    </tr>\n",
              "    <tr>\n",
              "      <th>5</th>\n",
              "      <td>6.0</td>\n",
              "      <td>0.985365</td>\n",
              "      <td>2.217819</td>\n",
              "    </tr>\n",
              "    <tr>\n",
              "      <th>6</th>\n",
              "      <td>7.0</td>\n",
              "      <td>0.984662</td>\n",
              "      <td>2.213676</td>\n",
              "    </tr>\n",
              "    <tr>\n",
              "      <th>7</th>\n",
              "      <td>8.0</td>\n",
              "      <td>0.984079</td>\n",
              "      <td>2.195277</td>\n",
              "    </tr>\n",
              "    <tr>\n",
              "      <th>8</th>\n",
              "      <td>9.0</td>\n",
              "      <td>0.983682</td>\n",
              "      <td>2.202259</td>\n",
              "    </tr>\n",
              "    <tr>\n",
              "      <th>9</th>\n",
              "      <td>10.0</td>\n",
              "      <td>0.983316</td>\n",
              "      <td>2.193940</td>\n",
              "    </tr>\n",
              "    <tr>\n",
              "      <th>10</th>\n",
              "      <td>11.0</td>\n",
              "      <td>0.983014</td>\n",
              "      <td>2.202337</td>\n",
              "    </tr>\n",
              "    <tr>\n",
              "      <th>11</th>\n",
              "      <td>12.0</td>\n",
              "      <td>0.982543</td>\n",
              "      <td>2.214420</td>\n",
              "    </tr>\n",
              "    <tr>\n",
              "      <th>12</th>\n",
              "      <td>13.0</td>\n",
              "      <td>0.982037</td>\n",
              "      <td>2.204135</td>\n",
              "    </tr>\n",
              "    <tr>\n",
              "      <th>13</th>\n",
              "      <td>14.0</td>\n",
              "      <td>0.981675</td>\n",
              "      <td>2.208859</td>\n",
              "    </tr>\n",
              "    <tr>\n",
              "      <th>14</th>\n",
              "      <td>15.0</td>\n",
              "      <td>0.981296</td>\n",
              "      <td>2.215238</td>\n",
              "    </tr>\n",
              "  </tbody>\n",
              "</table>\n",
              "</div>\n",
              "    <div class=\"colab-df-buttons\">\n",
              "\n",
              "  <div class=\"colab-df-container\">\n",
              "    <button class=\"colab-df-convert\" onclick=\"convertToInteractive('df-9ef93f25-9d53-445f-9c51-5a636a9358a0')\"\n",
              "            title=\"Convert this dataframe to an interactive table.\"\n",
              "            style=\"display:none;\">\n",
              "\n",
              "  <svg xmlns=\"http://www.w3.org/2000/svg\" height=\"24px\" viewBox=\"0 -960 960 960\">\n",
              "    <path d=\"M120-120v-720h720v720H120Zm60-500h600v-160H180v160Zm220 220h160v-160H400v160Zm0 220h160v-160H400v160ZM180-400h160v-160H180v160Zm440 0h160v-160H620v160ZM180-180h160v-160H180v160Zm440 0h160v-160H620v160Z\"/>\n",
              "  </svg>\n",
              "    </button>\n",
              "\n",
              "  <style>\n",
              "    .colab-df-container {\n",
              "      display:flex;\n",
              "      gap: 12px;\n",
              "    }\n",
              "\n",
              "    .colab-df-convert {\n",
              "      background-color: #E8F0FE;\n",
              "      border: none;\n",
              "      border-radius: 50%;\n",
              "      cursor: pointer;\n",
              "      display: none;\n",
              "      fill: #1967D2;\n",
              "      height: 32px;\n",
              "      padding: 0 0 0 0;\n",
              "      width: 32px;\n",
              "    }\n",
              "\n",
              "    .colab-df-convert:hover {\n",
              "      background-color: #E2EBFA;\n",
              "      box-shadow: 0px 1px 2px rgba(60, 64, 67, 0.3), 0px 1px 3px 1px rgba(60, 64, 67, 0.15);\n",
              "      fill: #174EA6;\n",
              "    }\n",
              "\n",
              "    .colab-df-buttons div {\n",
              "      margin-bottom: 4px;\n",
              "    }\n",
              "\n",
              "    [theme=dark] .colab-df-convert {\n",
              "      background-color: #3B4455;\n",
              "      fill: #D2E3FC;\n",
              "    }\n",
              "\n",
              "    [theme=dark] .colab-df-convert:hover {\n",
              "      background-color: #434B5C;\n",
              "      box-shadow: 0px 1px 3px 1px rgba(0, 0, 0, 0.15);\n",
              "      filter: drop-shadow(0px 1px 2px rgba(0, 0, 0, 0.3));\n",
              "      fill: #FFFFFF;\n",
              "    }\n",
              "  </style>\n",
              "\n",
              "    <script>\n",
              "      const buttonEl =\n",
              "        document.querySelector('#df-9ef93f25-9d53-445f-9c51-5a636a9358a0 button.colab-df-convert');\n",
              "      buttonEl.style.display =\n",
              "        google.colab.kernel.accessAllowed ? 'block' : 'none';\n",
              "\n",
              "      async function convertToInteractive(key) {\n",
              "        const element = document.querySelector('#df-9ef93f25-9d53-445f-9c51-5a636a9358a0');\n",
              "        const dataTable =\n",
              "          await google.colab.kernel.invokeFunction('convertToInteractive',\n",
              "                                                    [key], {});\n",
              "        if (!dataTable) return;\n",
              "\n",
              "        const docLinkHtml = 'Like what you see? Visit the ' +\n",
              "          '<a target=\"_blank\" href=https://colab.research.google.com/notebooks/data_table.ipynb>data table notebook</a>'\n",
              "          + ' to learn more about interactive tables.';\n",
              "        element.innerHTML = '';\n",
              "        dataTable['output_type'] = 'display_data';\n",
              "        await google.colab.output.renderOutput(dataTable, element);\n",
              "        const docLink = document.createElement('div');\n",
              "        docLink.innerHTML = docLinkHtml;\n",
              "        element.appendChild(docLink);\n",
              "      }\n",
              "    </script>\n",
              "  </div>\n",
              "\n",
              "\n",
              "<div id=\"df-d3ae49a2-e0fa-4f48-9dfa-b22a799450a9\">\n",
              "  <button class=\"colab-df-quickchart\" onclick=\"quickchart('df-d3ae49a2-e0fa-4f48-9dfa-b22a799450a9')\"\n",
              "            title=\"Suggest charts\"\n",
              "            style=\"display:none;\">\n",
              "\n",
              "<svg xmlns=\"http://www.w3.org/2000/svg\" height=\"24px\"viewBox=\"0 0 24 24\"\n",
              "     width=\"24px\">\n",
              "    <g>\n",
              "        <path d=\"M19 3H5c-1.1 0-2 .9-2 2v14c0 1.1.9 2 2 2h14c1.1 0 2-.9 2-2V5c0-1.1-.9-2-2-2zM9 17H7v-7h2v7zm4 0h-2V7h2v10zm4 0h-2v-4h2v4z\"/>\n",
              "    </g>\n",
              "</svg>\n",
              "  </button>\n",
              "\n",
              "<style>\n",
              "  .colab-df-quickchart {\n",
              "      --bg-color: #E8F0FE;\n",
              "      --fill-color: #1967D2;\n",
              "      --hover-bg-color: #E2EBFA;\n",
              "      --hover-fill-color: #174EA6;\n",
              "      --disabled-fill-color: #AAA;\n",
              "      --disabled-bg-color: #DDD;\n",
              "  }\n",
              "\n",
              "  [theme=dark] .colab-df-quickchart {\n",
              "      --bg-color: #3B4455;\n",
              "      --fill-color: #D2E3FC;\n",
              "      --hover-bg-color: #434B5C;\n",
              "      --hover-fill-color: #FFFFFF;\n",
              "      --disabled-bg-color: #3B4455;\n",
              "      --disabled-fill-color: #666;\n",
              "  }\n",
              "\n",
              "  .colab-df-quickchart {\n",
              "    background-color: var(--bg-color);\n",
              "    border: none;\n",
              "    border-radius: 50%;\n",
              "    cursor: pointer;\n",
              "    display: none;\n",
              "    fill: var(--fill-color);\n",
              "    height: 32px;\n",
              "    padding: 0;\n",
              "    width: 32px;\n",
              "  }\n",
              "\n",
              "  .colab-df-quickchart:hover {\n",
              "    background-color: var(--hover-bg-color);\n",
              "    box-shadow: 0 1px 2px rgba(60, 64, 67, 0.3), 0 1px 3px 1px rgba(60, 64, 67, 0.15);\n",
              "    fill: var(--button-hover-fill-color);\n",
              "  }\n",
              "\n",
              "  .colab-df-quickchart-complete:disabled,\n",
              "  .colab-df-quickchart-complete:disabled:hover {\n",
              "    background-color: var(--disabled-bg-color);\n",
              "    fill: var(--disabled-fill-color);\n",
              "    box-shadow: none;\n",
              "  }\n",
              "\n",
              "  .colab-df-spinner {\n",
              "    border: 2px solid var(--fill-color);\n",
              "    border-color: transparent;\n",
              "    border-bottom-color: var(--fill-color);\n",
              "    animation:\n",
              "      spin 1s steps(1) infinite;\n",
              "  }\n",
              "\n",
              "  @keyframes spin {\n",
              "    0% {\n",
              "      border-color: transparent;\n",
              "      border-bottom-color: var(--fill-color);\n",
              "      border-left-color: var(--fill-color);\n",
              "    }\n",
              "    20% {\n",
              "      border-color: transparent;\n",
              "      border-left-color: var(--fill-color);\n",
              "      border-top-color: var(--fill-color);\n",
              "    }\n",
              "    30% {\n",
              "      border-color: transparent;\n",
              "      border-left-color: var(--fill-color);\n",
              "      border-top-color: var(--fill-color);\n",
              "      border-right-color: var(--fill-color);\n",
              "    }\n",
              "    40% {\n",
              "      border-color: transparent;\n",
              "      border-right-color: var(--fill-color);\n",
              "      border-top-color: var(--fill-color);\n",
              "    }\n",
              "    60% {\n",
              "      border-color: transparent;\n",
              "      border-right-color: var(--fill-color);\n",
              "    }\n",
              "    80% {\n",
              "      border-color: transparent;\n",
              "      border-right-color: var(--fill-color);\n",
              "      border-bottom-color: var(--fill-color);\n",
              "    }\n",
              "    90% {\n",
              "      border-color: transparent;\n",
              "      border-bottom-color: var(--fill-color);\n",
              "    }\n",
              "  }\n",
              "</style>\n",
              "\n",
              "  <script>\n",
              "    async function quickchart(key) {\n",
              "      const quickchartButtonEl =\n",
              "        document.querySelector('#' + key + ' button');\n",
              "      quickchartButtonEl.disabled = true;  // To prevent multiple clicks.\n",
              "      quickchartButtonEl.classList.add('colab-df-spinner');\n",
              "      try {\n",
              "        const charts = await google.colab.kernel.invokeFunction(\n",
              "            'suggestCharts', [key], {});\n",
              "      } catch (error) {\n",
              "        console.error('Error during call to suggestCharts:', error);\n",
              "      }\n",
              "      quickchartButtonEl.classList.remove('colab-df-spinner');\n",
              "      quickchartButtonEl.classList.add('colab-df-quickchart-complete');\n",
              "    }\n",
              "    (() => {\n",
              "      let quickchartButtonEl =\n",
              "        document.querySelector('#df-d3ae49a2-e0fa-4f48-9dfa-b22a799450a9 button');\n",
              "      quickchartButtonEl.style.display =\n",
              "        google.colab.kernel.accessAllowed ? 'block' : 'none';\n",
              "    })();\n",
              "  </script>\n",
              "</div>\n",
              "\n",
              "  <div id=\"id_ccdc0a4a-934e-4c66-994e-b7bb2a70150a\">\n",
              "    <style>\n",
              "      .colab-df-generate {\n",
              "        background-color: #E8F0FE;\n",
              "        border: none;\n",
              "        border-radius: 50%;\n",
              "        cursor: pointer;\n",
              "        display: none;\n",
              "        fill: #1967D2;\n",
              "        height: 32px;\n",
              "        padding: 0 0 0 0;\n",
              "        width: 32px;\n",
              "      }\n",
              "\n",
              "      .colab-df-generate:hover {\n",
              "        background-color: #E2EBFA;\n",
              "        box-shadow: 0px 1px 2px rgba(60, 64, 67, 0.3), 0px 1px 3px 1px rgba(60, 64, 67, 0.15);\n",
              "        fill: #174EA6;\n",
              "      }\n",
              "\n",
              "      [theme=dark] .colab-df-generate {\n",
              "        background-color: #3B4455;\n",
              "        fill: #D2E3FC;\n",
              "      }\n",
              "\n",
              "      [theme=dark] .colab-df-generate:hover {\n",
              "        background-color: #434B5C;\n",
              "        box-shadow: 0px 1px 3px 1px rgba(0, 0, 0, 0.15);\n",
              "        filter: drop-shadow(0px 1px 2px rgba(0, 0, 0, 0.3));\n",
              "        fill: #FFFFFF;\n",
              "      }\n",
              "    </style>\n",
              "    <button class=\"colab-df-generate\" onclick=\"generateWithVariable('data')\"\n",
              "            title=\"Generate code using this dataframe.\"\n",
              "            style=\"display:none;\">\n",
              "\n",
              "  <svg xmlns=\"http://www.w3.org/2000/svg\" height=\"24px\"viewBox=\"0 0 24 24\"\n",
              "       width=\"24px\">\n",
              "    <path d=\"M7,19H8.4L18.45,9,17,7.55,7,17.6ZM5,21V16.75L18.45,3.32a2,2,0,0,1,2.83,0l1.4,1.43a1.91,1.91,0,0,1,.58,1.4,1.91,1.91,0,0,1-.58,1.4L9.25,21ZM18.45,9,17,7.55Zm-12,3A5.31,5.31,0,0,0,4.9,8.1,5.31,5.31,0,0,0,1,6.5,5.31,5.31,0,0,0,4.9,4.9,5.31,5.31,0,0,0,6.5,1,5.31,5.31,0,0,0,8.1,4.9,5.31,5.31,0,0,0,12,6.5,5.46,5.46,0,0,0,6.5,12Z\"/>\n",
              "  </svg>\n",
              "    </button>\n",
              "    <script>\n",
              "      (() => {\n",
              "      const buttonEl =\n",
              "        document.querySelector('#id_ccdc0a4a-934e-4c66-994e-b7bb2a70150a button.colab-df-generate');\n",
              "      buttonEl.style.display =\n",
              "        google.colab.kernel.accessAllowed ? 'block' : 'none';\n",
              "\n",
              "      buttonEl.onclick = () => {\n",
              "        google.colab.notebook.generateWithVariable('data');\n",
              "      }\n",
              "      })();\n",
              "    </script>\n",
              "  </div>\n",
              "\n",
              "    </div>\n",
              "  </div>\n"
            ],
            "application/vnd.google.colaboratory.intrinsic+json": {
              "type": "dataframe",
              "variable_name": "data",
              "summary": "{\n  \"name\": \"data\",\n  \"rows\": 15,\n  \"fields\": [\n    {\n      \"column\": \"Kneighbors\",\n      \"properties\": {\n        \"dtype\": \"number\",\n        \"std\": 4.47213595499958,\n        \"min\": 1.0,\n        \"max\": 15.0,\n        \"num_unique_values\": 15,\n        \"samples\": [\n          10.0,\n          12.0,\n          1.0\n        ],\n        \"semantic_type\": \"\",\n        \"description\": \"\"\n      }\n    },\n    {\n      \"column\": \"AccScore\",\n      \"properties\": {\n        \"dtype\": \"number\",\n        \"std\": 0.004994658440831983,\n        \"min\": 0.9812961480610605,\n        \"max\": 0.9999110613989356,\n        \"num_unique_values\": 15,\n        \"samples\": [\n          0.9833161917430909,\n          0.98254256174158,\n          0.9999110613989356\n        ],\n        \"semantic_type\": \"\",\n        \"description\": \"\"\n      }\n    },\n    {\n      \"column\": \"RMSE\",\n      \"properties\": {\n        \"dtype\": \"number\",\n        \"std\": 0.11402688803172978,\n        \"min\": 2.1939401652725508,\n        \"max\": 2.6058678198832435,\n        \"num_unique_values\": 15,\n        \"samples\": [\n          2.1939401652725508,\n          2.2144196381599355,\n          2.6058678198832435\n        ],\n        \"semantic_type\": \"\",\n        \"description\": \"\"\n      }\n    }\n  ]\n}"
            }
          },
          "metadata": {},
          "execution_count": 12
        }
      ]
    },
    {
      "cell_type": "markdown",
      "source": [
        "Looking at the table above we see that the best fit model is using 10 K neighbors. The accuracy is high and RMSE is lowest."
      ],
      "metadata": {
        "id": "7VvkAlqKxfhh"
      }
    },
    {
      "cell_type": "code",
      "source": [
        "#Run best fit model, and display results\n",
        "model = KNeighborsRegressor(n_neighbors=10)\n",
        "model.fit(X_train, y_train)\n",
        "print ('Neighbors = %s\\n' % (10))\n",
        "    # compute the R^2 score\n",
        "accuracyscore = model.score(X_train,y_train)\n",
        "print(\"Training R^2 score: {0:.2f}\\n\".format(model.score(X_train,y_train)))\n",
        "    # plot the model together with the data\n",
        "xfit = X_test\n",
        "yfit = model.predict(xfit)\n",
        "print(\"Testing R^2 score: {0:.2f}\\n\".format(model.score(xfit,yfit)))\n",
        "rmse = sqrt(mean_squared_error(y_test, yfit))\n",
        "print(\"RMSE = %s \\n\" % (rmse))\n",
        "\n"
      ],
      "metadata": {
        "colab": {
          "base_uri": "https://localhost:8080/"
        },
        "id": "Gc0VlloFxeyN",
        "outputId": "d4e59454-9d7b-4661-98e3-e484ae85c2d1"
      },
      "execution_count": 13,
      "outputs": [
        {
          "output_type": "stream",
          "name": "stdout",
          "text": [
            "Neighbors = 10\n",
            "\n",
            "Training R^2 score: 0.98\n",
            "\n",
            "Testing R^2 score: 1.00\n",
            "\n",
            "RMSE = 2.1939401652725508 \n",
            "\n"
          ]
        }
      ]
    },
    {
      "cell_type": "markdown",
      "source": [
        "The next two plots show the predicted nitrate vs salinity (and then temperature). Both training and test datasets are plotted. We can see here that the predicted variables do align with the general test data sets and their aren't many outliers. Meaning there doesn't seem to be overtraining on any specific data points."
      ],
      "metadata": {
        "id": "c0MmORIZxpCY"
      }
    },
    {
      "cell_type": "code",
      "source": [
        "#Plot salinity vs. nitrate predicted\n",
        "plt.scatter(X_train[[\"sal\"]],y_train)\n",
        "plt.scatter(xfit[[\"sal\"]], yfit,c = 'k')\n",
        "plt.xlabel('Salinity')\n",
        "plt.ylabel('Nitrate (uM)')\n",
        "plt.title('Nitrate vs Salinity, Test and Training data sets')\n",
        "plt.legend(('Training dataset', 'Test dataset'), edgecolor = 'k')\n",
        "#Plot temperature vs. nitrate predicted\n",
        "plt.scatter(X_train[[\"theta\"]],y_train)\n",
        "plt.scatter(xfit[[\"theta\"]], yfit,c = 'k')\n",
        "plt.xlabel('Temperature (C)')\n",
        "plt.ylabel('Nitrate (uM)')\n",
        "plt.title('Nitrate vs Temperature, Test and Training data sets')\n",
        "plt.legend(('Training dataset', 'Test dataset'), edgecolor = 'k')\n",
        "#Plot predicted nitrate from test compared to actual nitrate from test\n",
        "#this is using the best fit model decided above\n",
        "from sklearn.linear_model import LinearRegression\n",
        "plt.scatter(yfit,y_test,color = 'y')\n",
        "linear_regressor = LinearRegression()  # create object for the class\n",
        "linear_regressor.fit(yfit, y_test)  # perform linear regression\n",
        "Y_pred = linear_regressor.predict(yfit)  # make predictions\n",
        "plt.plot(yfit, Y_pred, color='red')\n",
        "plt.xlabel(\"Predicted nitrate variables using the test dataset\")\n",
        "plt.ylabel(\"Actual nitrate variables from the test dataset\")\n",
        "plt.title(\"KNN nitrate predict with regression (n = 10)\")\n",
        "plt.show()\n",
        "r2 = r2_score(yfit, Y_pred)\n",
        "print(\"r2 = %s \\n\" % (r2))\n",
        "rmse = sqrt(mean_squared_error(yfit, Y_pred))\n",
        "print(\"RMSE = %s \\n\" % (rmse))\n",
        "The plot and r2/RMSE values above show that the predicted nitrate values for the test dataset compare well to the actual nitrate values. There are some outliers seen on the graph but the statistics show that the model is a great fit overall on the test dataset."
      ],
      "metadata": {
        "id": "IOpo8Se9xmZz"
      },
      "execution_count": null,
      "outputs": []
    },
    {
      "cell_type": "code",
      "source": [],
      "metadata": {
        "id": "EqXqv8vZvj4w"
      },
      "execution_count": 13,
      "outputs": []
    }
  ]
}