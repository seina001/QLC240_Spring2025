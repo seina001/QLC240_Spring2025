{
  "nbformat": 4,
  "nbformat_minor": 0,
  "metadata": {
    "colab": {
      "provenance": [],
      "authorship_tag": "ABX9TyPlGVziZe0igEy/4XIQuiUg",
      "include_colab_link": true
    },
    "kernelspec": {
      "name": "python3",
      "display_name": "Python 3"
    },
    "language_info": {
      "name": "python"
    }
  },
  "cells": [
    {
      "cell_type": "markdown",
      "metadata": {
        "id": "view-in-github",
        "colab_type": "text"
      },
      "source": [
        "<a href=\"https://colab.research.google.com/github/seina001/QLC240_Spring2025/blob/main/Exercise7.ipynb\" target=\"_parent\"><img src=\"https://colab.research.google.com/assets/colab-badge.svg\" alt=\"Open In Colab\"/></a>"
      ]
    },
    {
      "cell_type": "code",
      "execution_count": null,
      "metadata": {
        "id": "8FFqMrDaTPH2"
      },
      "outputs": [],
      "source": [
        "#Install the packages needed\n",
        "import numpy as np\n",
        "import pandas as pd\n",
        "import matplotlib.pyplot as plt\n",
        "import seaborn as sns\n",
        "!pip install netcdf4\n",
        "import netCDF4\n",
        "import urllib.request as urllib2\n"
      ]
    },
    {
      "cell_type": "markdown",
      "source": [
        "Below we are going to plot data from an ocean glider. Search the web.\n",
        "\n",
        "1. What is an ocean glider?\n",
        "2. How does it move?"
      ],
      "metadata": {
        "id": "Rm-wP_ntTuYX"
      }
    },
    {
      "cell_type": "code",
      "source": [
        "import csv\n",
        "import matplotlib.pyplot as plt\n",
        "import matplotlib.dates as md\n",
        "import datetime\n",
        "from io import StringIO\n",
        "# Retreive data from the \"glider\" server\n",
        "response = urllib2.urlopen('http://glider.ceotr.ca/data/live/otn200_sci_water_sal_live.csv')\n",
        "data = response.read().decode('utf-8')  # Decode the response to a string\n",
        "data = StringIO(data)\n",
        "\n",
        "# Read file\n",
        "r = csv.DictReader(data)\n",
        "\n",
        "# Initialize empty variables\n",
        "date, lat, lon, depth, temp = [],[],[],[],[]\n",
        "\n",
        "# Loop to parse data into our variables\n",
        "for row in r:\n",
        "    date.append(float(row['unixtime']))\n",
        "    lat.append(float(row['lat']))\n",
        "    lon.append(float(row['lon']))\n",
        "    depth.append(float(row['depth']))\n",
        "    temp.append(float(row['sci_water_sal']))\n",
        "\n",
        "# Change unix-time into a date object (for easy plotting)\n",
        "DATE = []\n",
        "for row in date:\n",
        "    DATE.append(datetime.datetime.fromtimestamp(row))\n",
        "\n",
        "# Make plot\n",
        "fig, ax1 = plt.subplots(1)\n",
        "plt.scatter(DATE,depth,s=15,c=temp,marker='o', edgecolor='none')\n",
        "#plt.ylim((-0.5,max(depth)+5))\n",
        "ax1.set_ylim(ax1.get_ylim()[::-1])\n",
        "cbar = plt.colorbar(orientation='horizontal', extend='both')\n",
        "xfmt = md.DateFormatter('%Hh\\n%dd\\n%b')\n",
        "ax1.xaxis.set_major_formatter(xfmt)\n",
        "cbar.ax.set_xlabel('Salinity')\n",
        "plt.title('Glider transect')\n",
        "plt.ylabel('Depth (m)')\n",
        "plt.show()"
      ],
      "metadata": {
        "id": "qvcDh_3STZkO"
      },
      "execution_count": null,
      "outputs": []
    },
    {
      "cell_type": "markdown",
      "source": [
        "What is this plot showing? Can you gain any information about the water column at this location?"
      ],
      "metadata": {
        "id": "b1Ps-nEjW_5C"
      }
    },
    {
      "cell_type": "code",
      "source": [],
      "metadata": {
        "id": "0mWllo9yW_YT"
      },
      "execution_count": null,
      "outputs": []
    },
    {
      "cell_type": "markdown",
      "source": [
        "Copy paste the above plot into the cell below. Now replace the following lines:\n",
        "\n",
        "    response = urllib2.urlopen('http://glider.ceotr.ca/data/live/otn200_sci_water_sal_live.csv')\n",
        "\n",
        "    temp.append(float(row['sci_water_sal']))\n",
        "\n",
        "    cbar.ax.ser_xlabel('Salinity')\n",
        "\n",
        "with:\n",
        "\n",
        "    response = urllib2.urlopen('http://glider.ceotr.ca/data/live/otn200_sci_water_temp_live.csv')\n",
        "\n",
        "    temp.append(float(row['sci_water_temp']))\n",
        "\n",
        "    cbar.ax.ser_xlabel('Temperature (C)')\n",
        "\n",
        "After replacing those lines, create a new cell below this one and run the following:\n",
        "\n",
        "    #install cmocean package\n",
        "    !pip install cmocean\n",
        "    #import cmocean package\n",
        "    import cmocean\n",
        "\n",
        "Finally, go back to the plot you are making below and add the following variable to the plt.scatter(....) function:\n",
        "\n",
        "    ,cmap=cmocean.cm.thermal\n"
      ],
      "metadata": {
        "id": "B-_wU3M0XJUY"
      }
    },
    {
      "cell_type": "code",
      "source": [],
      "metadata": {
        "id": "Rtdj9m9ZYUKx"
      },
      "execution_count": null,
      "outputs": []
    },
    {
      "cell_type": "code",
      "source": [],
      "metadata": {
        "id": "uh_CsOtvYUyj"
      },
      "execution_count": null,
      "outputs": []
    },
    {
      "cell_type": "markdown",
      "source": [
        "1. What does this figure show you?\n",
        "\n",
        "2. What can we gather from both of these figures about the water column?\n",
        "\n",
        "3. Why might gliders be useful for atmospheric and ocean circulation models/predictions?\n",
        "\n",
        "4. What is cmocean? Search the web.\n",
        "\n",
        "5. Why is the color scheme important to figure visualization of data?\n"
      ],
      "metadata": {
        "id": "5WPAeGqUYV7K"
      }
    },
    {
      "cell_type": "code",
      "source": [],
      "metadata": {
        "id": "uWFvgGj9ZOl0"
      },
      "execution_count": null,
      "outputs": []
    }
  ]
}