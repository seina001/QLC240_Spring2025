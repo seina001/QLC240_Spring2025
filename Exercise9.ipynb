{
  "nbformat": 4,
  "nbformat_minor": 0,
  "metadata": {
    "colab": {
      "provenance": [],
      "authorship_tag": "ABX9TyMAZPZKBXV+TfZXwQATCu5v",
      "include_colab_link": true
    },
    "kernelspec": {
      "name": "python3",
      "display_name": "Python 3"
    },
    "language_info": {
      "name": "python"
    }
  },
  "cells": [
    {
      "cell_type": "markdown",
      "metadata": {
        "id": "view-in-github",
        "colab_type": "text"
      },
      "source": [
        "<a href=\"https://colab.research.google.com/github/seina001/QLC240_Spring2025/blob/main/Exercise9.ipynb\" target=\"_parent\"><img src=\"https://colab.research.google.com/assets/colab-badge.svg\" alt=\"Open In Colab\"/></a>"
      ]
    },
    {
      "cell_type": "code",
      "execution_count": null,
      "metadata": {
        "id": "WcZvnZMqogFS"
      },
      "outputs": [],
      "source": []
    },
    {
      "cell_type": "markdown",
      "source": [
        "Exercise 9: Importing and initial visualization of data that we will be modeling"
      ],
      "metadata": {
        "id": "6Ru1rhr3ouhD"
      }
    },
    {
      "cell_type": "markdown",
      "source": [
        "The following exercises will be organized into 4 sections:\n",
        "    1. Comparing the 2 datasets (JMA, Argo) and looking at overlaps and gaps.\n",
        "    2. Creating models to find the best fit model for the JMA dataset, to use on the ARGO data.\n",
        "    3. Use only data from JMA that corresponds to the geographic area of the ARGO dataset. Then do the same thing as in section 2.\n",
        "    4. Analysis of the best fit models from sections 2 and 3, to see if using data from the same geographic area results in a better model."
      ],
      "metadata": {
        "id": "XLFBhZQTomnL"
      }
    },
    {
      "cell_type": "code",
      "source": [
        "#Import packages needed to run code\n",
        "%matplotlib inline\n",
        "import matplotlib.pyplot as plt\n",
        "import numpy as np\n",
        "import pandas as pd\n",
        "from sklearn import datasets, linear_model\n",
        "from sklearn.metrics import mean_squared_error, r2_score"
      ],
      "metadata": {
        "id": "kxmSU2zVotPc"
      },
      "execution_count": 1,
      "outputs": []
    },
    {
      "cell_type": "markdown",
      "source": [
        "Import the JMA dataset and visualize to see what we have.\n",
        "IMport nitrate file as a pandas dataset."
      ],
      "metadata": {
        "id": "gWB-7nulqQ5O"
      }
    },
    {
      "cell_type": "code",
      "source": [
        "infile = 'jma_nitrate.csv'\n",
        "#######\n",
        "\n",
        "#End the cell by visualizing the data variable, if that is what you called it, example:\n",
        "data"
      ],
      "metadata": {
        "id": "Ic6GiwyXpHTt"
      },
      "execution_count": null,
      "outputs": []
    },
    {
      "cell_type": "markdown",
      "source": [
        "Plotting a scater plot of nitrate and depth data from JMA cruise.\n",
        "You might want to invert the axis, to make it look like an ocean water column."
      ],
      "metadata": {
        "id": "_Zgj4eVPqrYW"
      }
    },
    {
      "cell_type": "code",
      "source": [],
      "metadata": {
        "id": "Q5EHRGZlqpHQ"
      },
      "execution_count": null,
      "outputs": []
    },
    {
      "cell_type": "markdown",
      "source": [
        "The raw jma data appear to have some nitrate values at -999, representing either no data or bad data. These have to be removed before we can continue."
      ],
      "metadata": {
        "id": "BFOzR8N6qtiu"
      }
    },
    {
      "cell_type": "code",
      "source": [
        "#Example:\n",
        "# Looks like there are -999 values to indicate no samples or bad samples. Let's take those out.\n",
        "corr_data = data[data.nitrate>0]\n",
        "#Plot the corrected data in a scatter plot again."
      ],
      "metadata": {
        "id": "92eULDzhqvdv"
      },
      "execution_count": null,
      "outputs": []
    },
    {
      "cell_type": "markdown",
      "source": [
        "The following cell will read in another file, and fix some date/time variables so they are managable. You don't need to change it at all, except you need to upload the .csv file itself."
      ],
      "metadata": {
        "id": "6XHyc5z9rIbf"
      }
    },
    {
      "cell_type": "code",
      "source": [
        "# Reading in the Argo float data with no NO3 values\n",
        "infile = 'kuro_BGCargo_noNO3.csv'\n",
        "data_BGC = pd.read_csv(infile, sep = (','))\n",
        "\n",
        "# Separating the date column of BGC argo data into year month and day columns to look at seasonality compared to the jma data.\n",
        "import datetime\n",
        "\n",
        "data_BGC['year'] = pd.DatetimeIndex(data_BGC['Date/GMT']).year\n",
        "data_BGC['month'] = pd.DatetimeIndex(data_BGC['Date/GMT']).month\n",
        "data_BGC['day'] = pd.DatetimeIndex(data_BGC['Date/GMT']).day\n",
        "#data_BGC.head()"
      ],
      "metadata": {
        "id": "JctGGfMtrT-A"
      },
      "execution_count": null,
      "outputs": []
    },
    {
      "cell_type": "markdown",
      "source": [
        "# Section 1, compare datasets (JMA, ARGO)"
      ],
      "metadata": {
        "id": "6Dw7sLX-rcsP"
      }
    },
    {
      "cell_type": "markdown",
      "source": [
        "Compare the samples locations and see how the datasets overlap or don't overlap"
      ],
      "metadata": {
        "id": "JQ2n-G5sri3Z"
      }
    },
    {
      "cell_type": "code",
      "source": [
        "#Plot the corrected data and the Argo float data \"Latitude\" and \"Longitude\" coordinates. If you're unsure of the column to choose, just look at the data and the column head names.\n",
        "#Scatter plot for example"
      ],
      "metadata": {
        "id": "2w4VOJlcriT_"
      },
      "execution_count": 2,
      "outputs": []
    },
    {
      "cell_type": "code",
      "source": [],
      "metadata": {
        "id": "aqvAtNCor0hV"
      },
      "execution_count": null,
      "outputs": []
    },
    {
      "cell_type": "markdown",
      "source": [
        "Just from the geographic extend, we can see that the distribution of JMA samples is considerably higher than that of BCG ARGO samples. However big this despair, for this and other variables, there is some overlap in the sampled region, depths, and seasons. The geographical extent overlaps in the region between the ~30 to ~40° of latitude and ~150 to ~175° of longitude."
      ],
      "metadata": {
        "id": "ptvUm1gbr550"
      }
    },
    {
      "cell_type": "code",
      "source": [],
      "metadata": {
        "id": "b7Qf9oiMr8Zk"
      },
      "execution_count": null,
      "outputs": []
    },
    {
      "cell_type": "markdown",
      "source": [
        "Compare the water masses that were sampled in both datasets"
      ],
      "metadata": {
        "id": "5JKykjmar9E0"
      }
    },
    {
      "cell_type": "code",
      "source": [
        "#Plot a scatter plot looking at the temperature vs depth profile, and seperate plot looking at salinity vs temperature. Each data source should be labeled differently."
      ],
      "metadata": {
        "id": "YASwDw_AsA92"
      },
      "execution_count": null,
      "outputs": []
    }
  ]
}